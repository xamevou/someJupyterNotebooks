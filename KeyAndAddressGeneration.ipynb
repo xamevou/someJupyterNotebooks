{
  "nbformat": 4,
  "nbformat_minor": 0,
  "metadata": {
    "colab": {
      "name": "KeyAndAddressGeneration.ipynb",
      "provenance": [],
      "collapsed_sections": [],
      "authorship_tag": "ABX9TyMEXeAOulucNGJ7iK1aQb8h",
      "include_colab_link": true
    },
    "kernelspec": {
      "name": "python3",
      "display_name": "Python 3"
    }
  },
  "cells": [
    {
      "cell_type": "markdown",
      "metadata": {
        "id": "view-in-github",
        "colab_type": "text"
      },
      "source": [
        "<a href=\"https://colab.research.google.com/github/xamevou/someJupyterNotebooks/blob/main/KeyAndAddressGeneration.ipynb\" target=\"_parent\"><img src=\"https://colab.research.google.com/assets/colab-badge.svg\" alt=\"Open In Colab\"/></a>"
      ]
    },
    {
      "cell_type": "code",
      "metadata": {
        "colab": {
          "base_uri": "https://localhost:8080/"
        },
        "id": "8xq8H11tvNEC",
        "outputId": "0f74aae9-56c7-4fba-f5fc-190381f11b1e"
      },
      "source": [
        "!pip install bitcoin"
      ],
      "execution_count": 2,
      "outputs": [
        {
          "output_type": "stream",
          "text": [
            "Collecting bitcoin\n",
            "  Downloading https://files.pythonhosted.org/packages/12/88/c9390638d5b2713d38ccea46c93e8ec084f052a15a94f9b1d4c66baabd24/bitcoin-1.1.42.tar.gz\n",
            "Building wheels for collected packages: bitcoin\n",
            "  Building wheel for bitcoin (setup.py) ... \u001b[?25l\u001b[?25hdone\n",
            "  Created wheel for bitcoin: filename=bitcoin-1.1.42-cp36-none-any.whl size=44413 sha256=d18b9678ff33675ce23e74816e8a5e491f935fe7a80de339bb8c83902098d4c1\n",
            "  Stored in directory: /root/.cache/pip/wheels/1c/22/e0/a6d5c7103f57cbdb0a10303f537f4670f65a2fce81d9068230\n",
            "Successfully built bitcoin\n",
            "Installing collected packages: bitcoin\n",
            "Successfully installed bitcoin-1.1.42\n"
          ],
          "name": "stdout"
        }
      ]
    },
    {
      "cell_type": "code",
      "metadata": {
        "id": "zX4t08grtrld"
      },
      "source": [
        "# This is example 5 of chaper 4 in Antonopoulos' book\n",
        "from __future__ import print_function\n",
        "import bitcoin"
      ],
      "execution_count": 3,
      "outputs": []
    },
    {
      "cell_type": "code",
      "metadata": {
        "colab": {
          "base_uri": "https://localhost:8080/"
        },
        "id": "suTTkTFTt9EI",
        "outputId": "6d18df92-7139-40ed-df1d-35e7b298f909"
      },
      "source": [
        "# Generate a random private key\n",
        "# Use this string instead of a random_key(), for reproducing example 4.3 in book, in .cpp\n",
        "# private_key = \"038109007313a5807b2eccc082c8c3fbb988a973cacf1a7df9ce725c31b14776\"\n",
        "\n",
        "valid_private_key = False\n",
        "while not valid_private_key:    \n",
        "    private_key = bitcoin.random_key()\n",
        "    decoded_private_key = bitcoin.decode_privkey(private_key, 'hex')\n",
        "    valid_private_key = 0 < decoded_private_key < bitcoin.N\n",
        "\n",
        "print(\"Private Key (hex) is: \", private_key)\n",
        "print(\"Private Key (decimal) is: \", decoded_private_key)"
      ],
      "execution_count": 4,
      "outputs": [
        {
          "output_type": "stream",
          "text": [
            "Private Key (hex) is:  213f76f2ec6d0c68d0435d5a8727232375c04ba236c6384ef78c15a450c8a6aa\n",
            "Private Key (decimal) is:  15038456323603404540213400565704632130249108964068953496017533256181156980394\n"
          ],
          "name": "stdout"
        }
      ]
    },
    {
      "cell_type": "code",
      "metadata": {
        "colab": {
          "base_uri": "https://localhost:8080/"
        },
        "id": "fHnNRdIFuATM",
        "outputId": "9112fd57-67c3-41cd-d97f-adc41e651845"
      },
      "source": [
        "# Convert private key to WIF format\n",
        "wif_encoded_private_key = bitcoin.encode_privkey(decoded_private_key, 'wif')\n",
        "print(\"Private Key (WIF) is: \", wif_encoded_private_key)"
      ],
      "execution_count": 5,
      "outputs": [
        {
          "output_type": "stream",
          "text": [
            "Private Key (WIF) is:  5J4vrXWrz6GPL7s6YkkcXvFxtts5J1zUHtcwitWHP8jTTDsnc2E\n"
          ],
          "name": "stdout"
        }
      ]
    },
    {
      "cell_type": "code",
      "metadata": {
        "colab": {
          "base_uri": "https://localhost:8080/"
        },
        "id": "EtYuNFW7uCnN",
        "outputId": "25f71802-a3d8-48e9-999f-34fa372c585e"
      },
      "source": [
        "# Add suffix \"01\" to indicate a compressed private key\n",
        "compressed_private_key = private_key + '01'\n",
        "print(\"Private Key Compressed (hex) is: \", compressed_private_key)"
      ],
      "execution_count": 6,
      "outputs": [
        {
          "output_type": "stream",
          "text": [
            "Private Key Compressed (hex) is:  213f76f2ec6d0c68d0435d5a8727232375c04ba236c6384ef78c15a450c8a6aa01\n"
          ],
          "name": "stdout"
        }
      ]
    },
    {
      "cell_type": "code",
      "metadata": {
        "colab": {
          "base_uri": "https://localhost:8080/"
        },
        "id": "OR5QHleUuEZ1",
        "outputId": "a106c76b-8358-4cfa-882c-f67b760f84bd"
      },
      "source": [
        "# Generate a WIF format from the compressed private key (WIF-compressed)\n",
        "wif_compressed_private_key = bitcoin.encode_privkey(\n",
        "    bitcoin.decode_privkey(compressed_private_key, 'hex'), 'wif')\n",
        "print(\"Private Key (WIF-Compressed) is: \", wif_compressed_private_key)"
      ],
      "execution_count": 7,
      "outputs": [
        {
          "output_type": "stream",
          "text": [
            "Private Key (WIF-Compressed) is:  KxLLhbgoczEuZPJ7VA7VqU53i3v1x7NfTYqeXtLFJh8PkQNoeK69\n"
          ],
          "name": "stdout"
        }
      ]
    },
    {
      "cell_type": "code",
      "metadata": {
        "colab": {
          "base_uri": "https://localhost:8080/"
        },
        "id": "Y-6K6qVWuGPy",
        "outputId": "5ccbf459-7dcb-440d-8154-297125ce71d7"
      },
      "source": [
        "# Multiply the EC generator point G with the private key to get a public key point\n",
        "public_key = bitcoin.fast_multiply(bitcoin.G, decoded_private_key)\n",
        "print(\"Public Key (x,y) coordinates is:\", public_key)"
      ],
      "execution_count": 8,
      "outputs": [
        {
          "output_type": "stream",
          "text": [
            "Public Key (x,y) coordinates is: (103702896332295234796856986155337593336580484735592268579750576219914533323217, 55376603612021088475211800461240879666217037889129853133699330053551510848047)\n"
          ],
          "name": "stdout"
        }
      ]
    },
    {
      "cell_type": "code",
      "metadata": {
        "colab": {
          "base_uri": "https://localhost:8080/"
        },
        "id": "CsiEppUhuIFk",
        "outputId": "edd23916-1ef6-4e9c-bdc6-55e0b632e0f0"
      },
      "source": [
        "# Encode as hex, prefix 04\n",
        "hex_encoded_public_key = bitcoin.encode_pubkey(public_key, 'hex')\n",
        "print(\"Public Key (hex) is:\", hex_encoded_public_key)"
      ],
      "execution_count": 9,
      "outputs": [
        {
          "output_type": "stream",
          "text": [
            "Public Key (hex) is: 04e545c26132d094613dfa70081c2d4c63fb7ff6eb622678c7e7f762234d1bc1d17a6e0c03380873bd619debe683702c2d0c9cce9e78716ba5933641402ad5022f\n"
          ],
          "name": "stdout"
        }
      ]
    },
    {
      "cell_type": "code",
      "metadata": {
        "colab": {
          "base_uri": "https://localhost:8080/"
        },
        "id": "4MkNOB8puJyi",
        "outputId": "f0050ddd-26ca-4391-ac2b-396fae4cbf8b"
      },
      "source": [
        "# Compress public key, adjust prefix depending on whether y is even or odd\n",
        "(public_key_x, public_key_y) = public_key\n",
        "compressed_prefix = '02' if (public_key_y % 2) == 0 else '03'\n",
        "hex_compressed_public_key = compressed_prefix + (bitcoin.encode(public_key_x, 16).zfill(64))\n",
        "print(\"Compressed Public Key (hex) is:\", hex_compressed_public_key)"
      ],
      "execution_count": 10,
      "outputs": [
        {
          "output_type": "stream",
          "text": [
            "Compressed Public Key (hex) is: 03e545c26132d094613dfa70081c2d4c63fb7ff6eb622678c7e7f762234d1bc1d1\n"
          ],
          "name": "stdout"
        }
      ]
    },
    {
      "cell_type": "code",
      "metadata": {
        "colab": {
          "base_uri": "https://localhost:8080/"
        },
        "id": "97GUjt_ouLgx",
        "outputId": "84927a9b-2b46-4fd8-beb9-893a84a94424"
      },
      "source": [
        "# Generate bitcoin address from public key\n",
        "print(\"Bitcoin Address (b58check) is:\", bitcoin.pubkey_to_address(public_key))"
      ],
      "execution_count": 11,
      "outputs": [
        {
          "output_type": "stream",
          "text": [
            "Bitcoin Address (b58check) is: 1EeqYML9Bjg9rewqebyrH96cvRUJTmpomw\n"
          ],
          "name": "stdout"
        }
      ]
    },
    {
      "cell_type": "code",
      "metadata": {
        "colab": {
          "base_uri": "https://localhost:8080/"
        },
        "id": "gdBuIPixuNb0",
        "outputId": "4d348173-d6f4-4104-e31c-9d1fc532f149"
      },
      "source": [
        "# Generate compressed bitcoin address from compressed public key\n",
        "print(\"Compressed Bitcoin Address (b58check) is:\",\n",
        "      bitcoin.pubkey_to_address(hex_compressed_public_key))"
      ],
      "execution_count": 12,
      "outputs": [
        {
          "output_type": "stream",
          "text": [
            "Compressed Bitcoin Address (b58check) is: 1F6rXCNYAJAQ58s61BqAqsf8ieregvGmcb\n"
          ],
          "name": "stdout"
        }
      ]
    },
    {
      "cell_type": "code",
      "metadata": {
        "id": "idB0V-DavVnl"
      },
      "source": [
        ""
      ],
      "execution_count": 12,
      "outputs": []
    }
  ]
}