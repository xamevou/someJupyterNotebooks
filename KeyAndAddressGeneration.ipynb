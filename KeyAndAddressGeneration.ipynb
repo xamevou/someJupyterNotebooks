{
 "cells": [
  {
   "cell_type": "markdown",
   "metadata": {
    "colab_type": "text",
    "id": "view-in-github"
   },
   "source": [
    "<a href=\"https://colab.research.google.com/github/xamevou/someJupyterNotebooks/blob/main/KeyAndAddressGeneration.ipynb\" target=\"_parent\"><img src=\"https://colab.research.google.com/assets/colab-badge.svg\" alt=\"Open In Colab\"/></a>"
   ]
  },
  {
   "cell_type": "markdown",
   "metadata": {},
   "source": [
    "# Keys and addresses in Bitcoin\n",
    "\n",
    "Taken from example 5 of chaper 4 in Antonopoulos' book."
   ]
  },
  {
   "cell_type": "markdown",
   "metadata": {},
   "source": [
    "First, we need the bitcoin package."
   ]
  },
  {
   "cell_type": "code",
   "execution_count": 13,
   "metadata": {
    "colab": {
     "base_uri": "https://localhost:8080/"
    },
    "id": "8xq8H11tvNEC",
    "outputId": "0f74aae9-56c7-4fba-f5fc-190381f11b1e"
   },
   "outputs": [],
   "source": [
    "# !pip install bitcoin   # Uncomment if needed\n",
    "from __future__ import print_function\n",
    "import bitcoin"
   ]
  },
  {
   "cell_type": "markdown",
   "metadata": {},
   "source": [
    "## Generate a random private key\n",
    "\n",
    "We generate a random private key, but it must be valid. In other words, it must be an integer between 1 and `bitcoin.N`. This number, in the standard secp256k1, is the size $p$ of the Finite Field $F_p$ where the elliptic curve $y^2=x^3+7$ is defined. Its value is: $2^{256} - 2^{32} - 2^9 - 2^8 - 2^7 - 2^6 - 2^4 - 1$.\n",
    "\n",
    "*Note: In the book, example 4.3 is in cpp. If you want to reproduce that example here, change `bitcoin.random_key()` with the following string: `private_key = \"038109007313a5807b2eccc082c8c3fbb988a973cacf1a7df9ce725c31b14776\"`*"
   ]
  },
  {
   "cell_type": "code",
   "execution_count": 14,
   "metadata": {
    "colab": {
     "base_uri": "https://localhost:8080/"
    },
    "id": "suTTkTFTt9EI",
    "outputId": "6d18df92-7139-40ed-df1d-35e7b298f909"
   },
   "outputs": [
    {
     "name": "stdout",
     "output_type": "stream",
     "text": [
      "Private Key (hex) is:  0e64560b66f7c04d0f5c66328ee62b1783294859c0c10cab8d66610ebce29daa\n",
      "Private Key (decimal) is:  6509658444232577869753023006065702289253604268314065970305908148334806343082\n"
     ]
    }
   ],
   "source": [
    "valid_private_key = False\n",
    "while not valid_private_key:    \n",
    "    private_key = bitcoin.random_key()\n",
    "    decoded_private_key = bitcoin.decode_privkey(private_key, 'hex')\n",
    "    valid_private_key = 0 < decoded_private_key < bitcoin.N\n",
    "\n",
    "print(\"Private Key (hex) is: \", private_key)\n",
    "print(\"Private Key (decimal) is: \", decoded_private_key)"
   ]
  },
  {
   "cell_type": "markdown",
   "metadata": {},
   "source": [
    "### WIF\n",
    "The private key is now converted to Wallet Import Format (WIF). Supposedly, the WIF format encoding allows easy copy of a big number."
   ]
  },
  {
   "cell_type": "code",
   "execution_count": 15,
   "metadata": {
    "colab": {
     "base_uri": "https://localhost:8080/"
    },
    "id": "fHnNRdIFuATM",
    "outputId": "9112fd57-67c3-41cd-d97f-adc41e651845"
   },
   "outputs": [
    {
     "name": "stdout",
     "output_type": "stream",
     "text": [
      "Private Key (WIF) is:  5HvdCoLrFmNc71phn4eHe7neC3cfh4yHsCkx5AYBFvJt64P3NoF\n"
     ]
    }
   ],
   "source": [
    "wif_encoded_private_key = bitcoin.encode_privkey(decoded_private_key, 'wif')\n",
    "print(\"Private Key (WIF) is: \", wif_encoded_private_key)"
   ]
  },
  {
   "cell_type": "markdown",
   "metadata": {},
   "source": [
    "We add suffix \"01\" to create a \"compressed\" private key. Basically, adding \"01\" does not compress anything; it's just a signal for the wallet software to use that private key for generating compressed public keys ONLY. \n",
    "\n",
    "The goal is to keep compatibility of newer wallets with the old ones, which didn't deal with \"compressed\" keys.\n",
    "More info on \"compression\" below. "
   ]
  },
  {
   "cell_type": "code",
   "execution_count": 16,
   "metadata": {
    "colab": {
     "base_uri": "https://localhost:8080/"
    },
    "id": "EtYuNFW7uCnN",
    "outputId": "25f71802-a3d8-48e9-999f-34fa372c585e"
   },
   "outputs": [
    {
     "name": "stdout",
     "output_type": "stream",
     "text": [
      "Private Key Compressed (hex) is:  0e64560b66f7c04d0f5c66328ee62b1783294859c0c10cab8d66610ebce29daa01\n"
     ]
    }
   ],
   "source": [
    "compressed_private_key = private_key + '01'\n",
    "print(\"Private Key Compressed (hex) is: \", compressed_private_key)"
   ]
  },
  {
   "cell_type": "markdown",
   "metadata": {},
   "source": [
    "Now we generate a WIF format from the compressed private key (WIF-compressed)"
   ]
  },
  {
   "cell_type": "code",
   "execution_count": 17,
   "metadata": {
    "colab": {
     "base_uri": "https://localhost:8080/"
    },
    "id": "OR5QHleUuEZ1",
    "outputId": "a106c76b-8358-4cfa-882c-f67b760f84bd",
    "scrolled": true
   },
   "outputs": [
    {
     "name": "stdout",
     "output_type": "stream",
     "text": [
      "Private Key (WIF-Compressed) is:  Kwhgo5YcQArMwYdYyu5aSpxT9kYRmrXTSatz5P6cGrHvV7TZMDSa\n"
     ]
    }
   ],
   "source": [
    "wif_compressed_private_key = bitcoin.encode_privkey(bitcoin.decode_privkey(compressed_private_key, 'hex'), 'wif')\n",
    "print(\"Private Key (WIF-Compressed) is: \", wif_compressed_private_key)"
   ]
  },
  {
   "cell_type": "markdown",
   "metadata": {},
   "source": [
    "# From Private Key to Public Key\n",
    "\n",
    "We multiply the EC generator point G, `bitcoin.G`, with the private key, to get a public key point. The G point, if you are interested, is $(55066263022277343669578718895168534326250603453777594175500187360389116729240, 32670510020758816978083085130507043184471273380659243275938904335757337482424)$"
   ]
  },
  {
   "cell_type": "code",
   "execution_count": 18,
   "metadata": {
    "colab": {
     "base_uri": "https://localhost:8080/"
    },
    "id": "Y-6K6qVWuGPy",
    "outputId": "5ccbf459-7dcb-440d-8154-297125ce71d7",
    "scrolled": true
   },
   "outputs": [
    {
     "name": "stdout",
     "output_type": "stream",
     "text": [
      "Public Key (x,y) coordinates is: (113024833266739653776745878777873326346341954074713104127796608730692223400077, 77438189732872236239614089247879610977867735648464166360793462234653130989657)\n"
     ]
    }
   ],
   "source": [
    "public_key = bitcoin.fast_multiply(bitcoin.G, decoded_private_key)\n",
    "print(\"Public Key (x,y) coordinates is:\", public_key)"
   ]
  },
  {
   "cell_type": "markdown",
   "metadata": {},
   "source": [
    "Now we encode that public key as hex. It is done by concatenation of prefix 04 plus x(in hex) plus y(in hex). "
   ]
  },
  {
   "cell_type": "code",
   "execution_count": 19,
   "metadata": {
    "colab": {
     "base_uri": "https://localhost:8080/"
    },
    "id": "CsiEppUhuIFk",
    "outputId": "edd23916-1ef6-4e9c-bdc6-55e0b632e0f0",
    "scrolled": true
   },
   "outputs": [
    {
     "name": "stdout",
     "output_type": "stream",
     "text": [
      "x component in hex is:  0xf9e1c9e355883bee2a9712e59ad94b2d763f70177f1d8d6821c12592de2a788d\n",
      "y component in hex is:  0xab3476508d7d3d02e472169faeed37e91872f730961635b9990ae58d4a83a059\n",
      "\n",
      "Public Key (hex) is: 04f9e1c9e355883bee2a9712e59ad94b2d763f70177f1d8d6821c12592de2a788dab3476508d7d3d02e472169faeed37e91872f730961635b9990ae58d4a83a059\n"
     ]
    }
   ],
   "source": [
    "print(\"x component in hex is: \", hex(public_key[0]))\n",
    "print(\"y component in hex is: \", hex(public_key[1]))\n",
    "\n",
    "hex_encoded_public_key = bitcoin.encode_pubkey(public_key, 'hex')\n",
    "print(\"\\nPublic Key (hex) is:\", hex_encoded_public_key)"
   ]
  },
  {
   "cell_type": "markdown",
   "metadata": {},
   "source": [
    "### On \"compression\"\n",
    "\n",
    "The public key is a point, as you see, but we can manage with only the x component.\n",
    "\"Compression\" makes reference to the process of taking only the x component of the (x,y) pair that forms the public key. Every use of \"compression\" refers to that process. For instance, a \"compressed private key\" is one that will be used only for generating compressed public keys.\n",
    "\n",
    "So now we compress the public key, adjusting prefix depending on whether $y$ is even or odd."
   ]
  },
  {
   "cell_type": "code",
   "execution_count": 20,
   "metadata": {
    "colab": {
     "base_uri": "https://localhost:8080/"
    },
    "id": "4MkNOB8puJyi",
    "outputId": "f0050ddd-26ca-4391-ac2b-396fae4cbf8b"
   },
   "outputs": [
    {
     "name": "stdout",
     "output_type": "stream",
     "text": [
      "Compressed Public Key (hex) is: 03f9e1c9e355883bee2a9712e59ad94b2d763f70177f1d8d6821c12592de2a788d\n"
     ]
    }
   ],
   "source": [
    "(public_key_x, public_key_y) = public_key\n",
    "compressed_prefix = '02' if (public_key_y % 2) == 0 else '03'\n",
    "hex_compressed_public_key = compressed_prefix + (bitcoin.encode(public_key_x, 16).zfill(64))\n",
    "print(\"Compressed Public Key (hex) is:\", hex_compressed_public_key)"
   ]
  },
  {
   "cell_type": "markdown",
   "metadata": {},
   "source": [
    "# Generation of the bitcoin address from the public key\n",
    "\n",
    "At last, we generate the address that corresponds to the public key."
   ]
  },
  {
   "cell_type": "code",
   "execution_count": 21,
   "metadata": {
    "colab": {
     "base_uri": "https://localhost:8080/"
    },
    "id": "97GUjt_ouLgx",
    "outputId": "84927a9b-2b46-4fd8-beb9-893a84a94424",
    "scrolled": false
   },
   "outputs": [
    {
     "name": "stdout",
     "output_type": "stream",
     "text": [
      "Generating address for the public key:  (113024833266739653776745878777873326346341954074713104127796608730692223400077, 77438189732872236239614089247879610977867735648464166360793462234653130989657)\n",
      "\n",
      "Bitcoin Address (b58check) is: 1CBZUock31R4fzmc2hDGfNXCLLXiusdQNq\n"
     ]
    }
   ],
   "source": [
    "print(\"Generating address for the public key: \", public_key)\n",
    "print(\"\\nBitcoin Address (b58check) is:\", bitcoin.pubkey_to_address(public_key))"
   ]
  },
  {
   "cell_type": "markdown",
   "metadata": {},
   "source": [
    "The address is now compressed (meaning: it will be generated from the compressed public key, the one with x component only)."
   ]
  },
  {
   "cell_type": "code",
   "execution_count": 22,
   "metadata": {
    "colab": {
     "base_uri": "https://localhost:8080/"
    },
    "id": "gdBuIPixuNb0",
    "outputId": "4d348173-d6f4-4104-e31c-9d1fc532f149",
    "scrolled": true
   },
   "outputs": [
    {
     "name": "stdout",
     "output_type": "stream",
     "text": [
      "The compressed public key is:  03f9e1c9e355883bee2a9712e59ad94b2d763f70177f1d8d6821c12592de2a788d\n",
      "\n",
      "Compressed Bitcoin Address (b58check) is: 166UGtSF2f38csxTB3HDiUJstiwRqZs32B\n"
     ]
    }
   ],
   "source": [
    "print(\"The compressed public key is: \", hex_compressed_public_key)\n",
    "\n",
    "print(\"\\nCompressed Bitcoin Address (b58check) is:\", bitcoin.pubkey_to_address(hex_compressed_public_key))"
   ]
  },
  {
   "cell_type": "markdown",
   "metadata": {
    "id": "idB0V-DavVnl"
   },
   "source": [
    "Please note that the address generated is different depending if we started with the (x,y) public key or with the compressed (x) one. The wallet software must take care for the compatibility between old non-compressed addresses and compressed ones, by looking at the \"01\" suffix in the private key.\n",
    "\n",
    "And that's all !"
   ]
  },
  {
   "cell_type": "markdown",
   "metadata": {},
   "source": [
    "## NOTE\n",
    "As you see, this process proceeds in a one-to-one fashion: one seed, one private key, one public key, one address (compressed or not). Obviously we want more flexibility in our wallets. That's what the seed words are for: with the words, several seeds are generated, which lead to several private keys, etc. \n",
    "\n",
    "From the words to the keys, that should be a topic for another Notebook. "
   ]
  }
 ],
 "metadata": {
  "colab": {
   "authorship_tag": "ABX9TyMEXeAOulucNGJ7iK1aQb8h",
   "collapsed_sections": [],
   "include_colab_link": true,
   "name": "KeyAndAddressGeneration.ipynb",
   "provenance": []
  },
  "kernelspec": {
   "display_name": "Python 3",
   "language": "python",
   "name": "python3"
  },
  "language_info": {
   "codemirror_mode": {
    "name": "ipython",
    "version": 3
   },
   "file_extension": ".py",
   "mimetype": "text/x-python",
   "name": "python",
   "nbconvert_exporter": "python",
   "pygments_lexer": "ipython3",
   "version": "3.9.0"
  }
 },
 "nbformat": 4,
 "nbformat_minor": 1
}
