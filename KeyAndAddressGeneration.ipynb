{
 "cells": [
  {
   "cell_type": "markdown",
   "metadata": {
    "colab_type": "text",
    "id": "view-in-github"
   },
   "source": [
    "<a href=\"https://colab.research.google.com/github/xamevou/someJupyterNotebooks/blob/main/KeyAndAddressGeneration.ipynb\" target=\"_parent\"><img src=\"https://colab.research.google.com/assets/colab-badge.svg\" alt=\"Open In Colab\"/></a>"
   ]
  },
  {
   "cell_type": "markdown",
   "metadata": {},
   "source": [
    "# Keys and addresses in Bitcoin\n",
    "\n",
    "Taken from example 5 of chaper 4 in Antonopoulos' book."
   ]
  },
  {
   "cell_type": "markdown",
   "metadata": {},
   "source": [
    "First, we need the bitcoin package. \n",
    "I will also use the logging module because it's a better practice to log than to print."
   ]
  },
  {
   "cell_type": "code",
   "execution_count": 1,
   "metadata": {
    "colab": {
     "base_uri": "https://localhost:8080/"
    },
    "id": "8xq8H11tvNEC",
    "outputId": "0f74aae9-56c7-4fba-f5fc-190381f11b1e"
   },
   "outputs": [],
   "source": [
    "# !pip install bitcoin   # Uncomment if needed\n",
    "from __future__ import print_function\n",
    "import bitcoin\n",
    "import logging\n",
    "logging.basicConfig(level=logging.INFO, format='%(levelname)s - %(message)s')\n",
    "# Uncomment if you want to disable logs\n",
    "# logging.disable(logging.INFO)"
   ]
  },
  {
   "cell_type": "markdown",
   "metadata": {},
   "source": [
    "## Generate a random private key\n",
    "\n",
    "We generate a random number but, to be a valid private key, it must be an integer between 1 and `bitcoin.N`. This last number, in the standard secp256k1, is the size $p$ of the Finite Field $F_p$ where the elliptic curve $y^2=x^3+7$ is defined. Its value is: $2^{256} - 2^{32} - 2^9 - 2^8 - 2^7 - 2^6 - 2^4 - 1$.\n",
    "\n",
    "*Note: In Antonopoulos' book, the example 4.3 is in cpp. If you want to reproduce that example here, change `bitcoin.random_key()` with the following string: `private_key = \"038109007313a5807b2eccc082c8c3fbb988a973cacf1a7df9ce725c31b14776\"`*"
   ]
  },
  {
   "cell_type": "code",
   "execution_count": 13,
   "metadata": {
    "colab": {
     "base_uri": "https://localhost:8080/"
    },
    "id": "suTTkTFTt9EI",
    "outputId": "6d18df92-7139-40ed-df1d-35e7b298f909"
   },
   "outputs": [
    {
     "name": "stderr",
     "output_type": "stream",
     "text": [
      "INFO - We generate random numbers until we find one lower than 115792089237316195423570985008687907852837564279074904382605163141518161494337\n"
     ]
    },
    {
     "name": "stdout",
     "output_type": "stream",
     "text": [
      "Private Key (hex) is:  177ff4a44d8c27f05647a9ac1a3f60cf432fbfb6a307e01e3f5b0f3878ded2b3\n",
      "Private Key (decimal) is:  10629273550348555349901460848557787944580676248330772490612016919618250527411\n"
     ]
    }
   ],
   "source": [
    "logging.info('We generate random numbers until we find one lower than ' + str(bitcoin.N))\n",
    "\n",
    "valid_private_key = False\n",
    "while not valid_private_key:    \n",
    "    private_key = bitcoin.random_key()\n",
    "    decoded_private_key = bitcoin.decode_privkey(private_key, 'hex')\n",
    "    valid_private_key = 0 < decoded_private_key < bitcoin.N\n",
    "\n",
    "print(\"Private Key (hex) is: \", private_key)\n",
    "print(\"Private Key (decimal) is: \", decoded_private_key)"
   ]
  },
  {
   "cell_type": "markdown",
   "metadata": {},
   "source": [
    "### WIF\n",
    "The private key can be converted to Wallet Import Format (WIF). Supposedly, the WIF format encoding allows easy copy of a big number.\n"
   ]
  },
  {
   "cell_type": "code",
   "execution_count": 22,
   "metadata": {},
   "outputs": [
    {
     "name": "stdout",
     "output_type": "stream",
     "text": [
      "Private Key (WIF) is:  5HzdrRtN4NeqNHUihoCYR6EVjFUDQh7HHa97ssQikizpZruJour\n"
     ]
    }
   ],
   "source": [
    "wif_encoded_private_key = bitcoin.encode_privkey(decoded_private_key, 'wif')\n",
    "print(\"Private Key (WIF) is: \", wif_encoded_private_key)"
   ]
  },
  {
   "cell_type": "markdown",
   "metadata": {},
   "source": [
    "\n",
    "We add suffix \"01\" to the original private key to create a \"compressed\" private key. Basically, adding \"01\" does not compress anything; it's just a signal for the wallet software to use that private key for generating compressed public keys ONLY. The goal is to keep compatibility of newer wallets with the old ones, which don't manage \"compressed\" keys.\n",
    "More info on \"compression\" below. \n",
    "\n",
    "We can also generate a WIF format from the compressed private key (WIF-compressed)"
   ]
  },
  {
   "cell_type": "code",
   "execution_count": 24,
   "metadata": {
    "colab": {
     "base_uri": "https://localhost:8080/"
    },
    "id": "OR5QHleUuEZ1",
    "outputId": "a106c76b-8358-4cfa-882c-f67b760f84bd",
    "scrolled": true
   },
   "outputs": [
    {
     "name": "stderr",
     "output_type": "stream",
     "text": [
      "INFO - Now, compression. Note the 01 added at the end of the already generated private key.\n"
     ]
    },
    {
     "name": "stdout",
     "output_type": "stream",
     "text": [
      "Private Key Compressed (hex) is:  177ff4a44d8c27f05647a9ac1a3f60cf432fbfb6a307e01e3f5b0f3878ded2b301\n",
      "Private Key (WIF-Compressed) is:  Kx1PfAqhwtZzUwjM54uwfL6ZoUs7ma2it9GqMXVhHzNCwvXk88XL\n"
     ]
    }
   ],
   "source": [
    "logging.info('Now, compression. Note the 01 added at the end of the already generated private key.')\n",
    "\n",
    "compressed_private_key = private_key + '01'\n",
    "print(\"Private Key Compressed (hex) is: \", compressed_private_key)\n",
    "wif_compressed_private_key = bitcoin.encode_privkey(bitcoin.decode_privkey(compressed_private_key, 'hex'), 'wif')\n",
    "print(\"Private Key (WIF-Compressed) is: \", wif_compressed_private_key)"
   ]
  },
  {
   "cell_type": "markdown",
   "metadata": {},
   "source": [
    "# From Private Key to Public Key\n",
    "\n",
    "We multiply the private key and the Elliptic Curve generator point G, `bitcoin.G`. The result is a point that will be used as public key. \n",
    "\n",
    "The G point, for those interested, is $(55066263022277343669578718895168534326250603453777594175500187360389116729240, 32670510020758816978083085130507043184471273380659243275938904335757337482424)$"
   ]
  },
  {
   "cell_type": "code",
   "execution_count": 26,
   "metadata": {
    "colab": {
     "base_uri": "https://localhost:8080/"
    },
    "id": "Y-6K6qVWuGPy",
    "outputId": "5ccbf459-7dcb-440d-8154-297125ce71d7",
    "scrolled": true
   },
   "outputs": [
    {
     "name": "stdout",
     "output_type": "stream",
     "text": [
      "Public Key (x,y) is: (34659121358656894097978999572154392346265186598154399035690715714022049873667, 41970595200530075582395168597798444714875162052094091273249293293219026042389)\n"
     ]
    }
   ],
   "source": [
    "public_key = bitcoin.fast_multiply(bitcoin.G, decoded_private_key)\n",
    "print(\"Public Key (x,y) is:\", public_key)"
   ]
  },
  {
   "cell_type": "markdown",
   "metadata": {},
   "source": [
    "Now we encode that public key as hex. It is done by concatenation of prefix 04 with x (in hex) and y (in hex). "
   ]
  },
  {
   "cell_type": "code",
   "execution_count": 40,
   "metadata": {
    "colab": {
     "base_uri": "https://localhost:8080/"
    },
    "id": "CsiEppUhuIFk",
    "outputId": "edd23916-1ef6-4e9c-bdc6-55e0b632e0f0",
    "scrolled": true
   },
   "outputs": [
    {
     "name": "stderr",
     "output_type": "stream",
     "text": [
      "INFO - The x component in hex is: 0x4ca05e1535a30e4f909950e43fa681b0a9857bb9c76ef42fad584e6a07747f03\n",
      "The y component in hex is: 0x5cca83daa87e90e2828f20efea71317db5ae04e26d70cf922a6afccf9af7fe15\n"
     ]
    },
    {
     "name": "stdout",
     "output_type": "stream",
     "text": [
      "\n",
      "Public Key (hex) is: 044ca05e1535a30e4f909950e43fa681b0a9857bb9c76ef42fad584e6a07747f035cca83daa87e90e2828f20efea71317db5ae04e26d70cf922a6afccf9af7fe15\n"
     ]
    }
   ],
   "source": [
    "logging.info('The x component in hex is: ' + hex(public_key[0]) + \n",
    "             '\\nThe y component in hex is: ' + hex(public_key[1]))\n",
    "\n",
    "hex_encoded_public_key = bitcoin.encode_pubkey(public_key, 'hex')\n",
    "print(\"\\nPublic Key (hex) is:\", hex_encoded_public_key)"
   ]
  },
  {
   "cell_type": "markdown",
   "metadata": {},
   "source": [
    "### On \"compression\"\n",
    "\n",
    "The public key is a point, as you see, but we can manage with only the x component.\n",
    "\"Compression\" makes reference to the process of taking only the x component of the (x,y) pair that forms the public key. Every use of \"compression\" refers to that process. For instance, a \"compressed private key\" is one that will be used only for generating compressed public keys.\n",
    "\n",
    "So now we compress the public key, adjusting prefix depending on whether $y$ is even or odd."
   ]
  },
  {
   "cell_type": "code",
   "execution_count": 41,
   "metadata": {
    "colab": {
     "base_uri": "https://localhost:8080/"
    },
    "id": "4MkNOB8puJyi",
    "outputId": "f0050ddd-26ca-4391-ac2b-396fae4cbf8b"
   },
   "outputs": [
    {
     "name": "stdout",
     "output_type": "stream",
     "text": [
      "Compressed Public Key (hex) is: 034ca05e1535a30e4f909950e43fa681b0a9857bb9c76ef42fad584e6a07747f03\n"
     ]
    }
   ],
   "source": [
    "(public_key_x, public_key_y) = public_key\n",
    "compressed_prefix = '02' if (public_key_y % 2) == 0 else '03'\n",
    "hex_compressed_public_key = compressed_prefix + (bitcoin.encode(public_key_x, 16).zfill(64))\n",
    "print(\"Compressed Public Key (hex) is:\", hex_compressed_public_key)"
   ]
  },
  {
   "cell_type": "markdown",
   "metadata": {},
   "source": [
    "# Generation of the bitcoin address from the public key\n",
    "\n",
    "Finally, we will generate the address that corresponds to the public key."
   ]
  },
  {
   "cell_type": "code",
   "execution_count": 47,
   "metadata": {
    "colab": {
     "base_uri": "https://localhost:8080/"
    },
    "id": "97GUjt_ouLgx",
    "outputId": "84927a9b-2b46-4fd8-beb9-893a84a94424",
    "scrolled": false
   },
   "outputs": [
    {
     "name": "stderr",
     "output_type": "stream",
     "text": [
      "INFO - Generating address in b58check for our public key: (34659121358656894097978999572154392346265186598154399035690715714022049873667, 41970595200530075582395168597798444714875162052094091273249293293219026042389)\n"
     ]
    },
    {
     "name": "stdout",
     "output_type": "stream",
     "text": [
      "\n",
      "Bitcoin Address (b58check) is: 1KGsnJeLYJHd7nZbUCmT65riEkMwjakbLE\n"
     ]
    }
   ],
   "source": [
    "logging.info(\"Generating address in b58check for our public key \" + str(public_key))\n",
    "print(\"\\nBitcoin Address (b58check) is:\", bitcoin.pubkey_to_address(public_key))"
   ]
  },
  {
   "cell_type": "markdown",
   "metadata": {},
   "source": [
    "The address is now compressed (meaning: it will be generated from the compressed public key, the one with x component only)."
   ]
  },
  {
   "cell_type": "code",
   "execution_count": 50,
   "metadata": {
    "colab": {
     "base_uri": "https://localhost:8080/"
    },
    "id": "gdBuIPixuNb0",
    "outputId": "4d348173-d6f4-4104-e31c-9d1fc532f149",
    "scrolled": true
   },
   "outputs": [
    {
     "name": "stderr",
     "output_type": "stream",
     "text": [
      "INFO - Generating compressed address, from our compressed public key 034ca05e1535a30e4f909950e43fa681b0a9857bb9c76ef42fad584e6a07747f03\n"
     ]
    },
    {
     "name": "stdout",
     "output_type": "stream",
     "text": [
      "\n",
      "Compressed Bitcoin Address (b58check) is: 16SgUhMX3R49CmUNyyvRTahAB2V6a5DqsH\n"
     ]
    }
   ],
   "source": [
    "logging.info(\"Generating compressed address, from our compressed public key \" + hex_compressed_public_key)\n",
    "\n",
    "print(\"\\nCompressed Bitcoin Address (b58check) is:\", bitcoin.pubkey_to_address(hex_compressed_public_key))"
   ]
  },
  {
   "cell_type": "markdown",
   "metadata": {
    "id": "idB0V-DavVnl"
   },
   "source": [
    "Please note that the address generated is different depending if we started with the (x,y) public key or with the compressed (x) one. The wallet software must take care for the compatibility between old non-compressed addresses and compressed ones, by looking at the \"01\" suffix in the private key.\n",
    "\n",
    "And that's all !"
   ]
  },
  {
   "cell_type": "markdown",
   "metadata": {},
   "source": [
    "## NOTE\n",
    "As you see, this process proceeds in a one-to-one fashion: one seed, one private key, one public key, one address (compressed or not). Obviously we want more flexibility in our wallets. That's what the seed words are for: with the words, several seeds are generated, which lead to several private keys, etc. \n",
    "\n",
    "From the words to the keys, that should be a topic for another Notebook. "
   ]
  }
 ],
 "metadata": {
  "colab": {
   "authorship_tag": "ABX9TyMEXeAOulucNGJ7iK1aQb8h",
   "collapsed_sections": [],
   "include_colab_link": true,
   "name": "KeyAndAddressGeneration.ipynb",
   "provenance": []
  },
  "kernelspec": {
   "display_name": "Python 3",
   "language": "python",
   "name": "python3"
  },
  "language_info": {
   "codemirror_mode": {
    "name": "ipython",
    "version": 3
   },
   "file_extension": ".py",
   "mimetype": "text/x-python",
   "name": "python",
   "nbconvert_exporter": "python",
   "pygments_lexer": "ipython3",
   "version": "3.9.0"
  }
 },
 "nbformat": 4,
 "nbformat_minor": 1
}
